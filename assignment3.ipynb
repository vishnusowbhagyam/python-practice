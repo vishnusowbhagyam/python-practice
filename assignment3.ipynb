{
 "cells": [
  {
   "cell_type": "markdown",
   "id": "ad8a522c-012b-4428-b0eb-03d5b98cdabf",
   "metadata": {},
   "source": [
    "1. Write a Python Program to Find the Factorial of a Number?\n",
    "2. Write a Python Program to Display the multiplication Table?\n",
    "3. Write a Python Program to Print the Fibonacci sequence?\n",
    "4. Write a Python Program to Check Armstrong Number?\n",
    "5. Write a Python Program to Find Armstrong Number in an Interval?\n",
    "6. Write a Python Program to Find the Sum of Natural Numbers?"
   ]
  },
  {
   "cell_type": "code",
   "execution_count": 4,
   "id": "6beda6a4-2e02-41fb-9b07-dd58ef27c71c",
   "metadata": {},
   "outputs": [
    {
     "name": "stdin",
     "output_type": "stream",
     "text": [
      " 5\n"
     ]
    },
    {
     "name": "stdout",
     "output_type": "stream",
     "text": [
      "factorial of 5 is:120\n"
     ]
    }
   ],
   "source": [
    "#1\n",
    "n = int(input())\n",
    "factorial = 1\n",
    "for i in range(n,1,-1):\n",
    "    factorial *= i\n",
    "print(f\"factorial of {n} is:{factorial}\")\n",
    "    "
   ]
  },
  {
   "cell_type": "code",
   "execution_count": 5,
   "id": "948444d1-d5b1-4bbb-8ece-67050ce04295",
   "metadata": {},
   "outputs": [
    {
     "name": "stdin",
     "output_type": "stream",
     "text": [
      " 2\n"
     ]
    },
    {
     "name": "stdout",
     "output_type": "stream",
     "text": [
      "2 * 1 = 2\n",
      "2 * 2 = 4\n",
      "2 * 3 = 6\n",
      "2 * 4 = 8\n",
      "2 * 5 = 10\n",
      "2 * 6 = 12\n",
      "2 * 7 = 14\n",
      "2 * 8 = 16\n",
      "2 * 9 = 18\n",
      "2 * 10 = 20\n"
     ]
    }
   ],
   "source": [
    "#2\n",
    "n = int(input())\n",
    "for i in range(1,11):\n",
    "    print(f\"{n} * {i} = {n*i}\")"
   ]
  },
  {
   "cell_type": "code",
   "execution_count": 10,
   "id": "826ac0b5-ed45-4b17-9892-6775089682d6",
   "metadata": {},
   "outputs": [
    {
     "name": "stdin",
     "output_type": "stream",
     "text": [
      " 10\n"
     ]
    },
    {
     "name": "stdout",
     "output_type": "stream",
     "text": [
      "[0, 1, 1, 2, 3, 5, 8, 13, 21, 34]\n"
     ]
    }
   ],
   "source": [
    "#3\n",
    "n = int(input())\n",
    "first_number = 0\n",
    "second_num = 1\n",
    "lst = []\n",
    "for i in range(0,n):\n",
    "    if i == 0:\n",
    "        lst.append(i)\n",
    "    elif(i==1):\n",
    "        lst.append(i)\n",
    "    else:\n",
    "        fibo = first_number + second_num\n",
    "        lst.append(fibo)\n",
    "        first_number = second_num\n",
    "        second_num = fibo\n",
    "print(lst)"
   ]
  },
  {
   "cell_type": "code",
   "execution_count": 18,
   "id": "0e55e1cc-9c8a-47db-8a5e-6a26ec098eec",
   "metadata": {},
   "outputs": [
    {
     "name": "stdin",
     "output_type": "stream",
     "text": [
      " 143\n"
     ]
    },
    {
     "name": "stdout",
     "output_type": "stream",
     "text": [
      "3\n",
      "143 is not an armstrong number\n"
     ]
    }
   ],
   "source": [
    "#4\n",
    "num = int(input())\n",
    "n = len(str(num))\n",
    "print(n)\n",
    "sum = 0\n",
    "for i in str(num):\n",
    "    sum += int(i)**n\n",
    "if sum == num:\n",
    "    print(f\"{num} is an armstrong number\")\n",
    "else:\n",
    "    print(f\"{num} is not an armstrong number\")\n",
    "    \n",
    "    "
   ]
  },
  {
   "cell_type": "code",
   "execution_count": 21,
   "id": "60d7e848-c76e-4f1f-9bc5-b272c84d8cee",
   "metadata": {},
   "outputs": [
    {
     "name": "stdin",
     "output_type": "stream",
     "text": [
      "Enter lower range:  153\n",
      "Enter upper range:  171\n"
     ]
    },
    {
     "name": "stdout",
     "output_type": "stream",
     "text": [
      "Armstrong numbers between 153 and 171 are:\n",
      "153\n"
     ]
    }
   ],
   "source": [
    "#5\n",
    "lower = int(input(\"Enter lower range: \"))\n",
    "upper = int(input(\"Enter upper range: \"))\n",
    "\n",
    "print(\"Armstrong numbers between\", lower, \"and\", upper, \"are:\")\n",
    "\n",
    "for num in range(lower, upper + 1): \n",
    "    temp = num\n",
    "    count = 0\n",
    "    while temp > 0:\n",
    "        last_digit = temp % 10\n",
    "        count = count + 1\n",
    "        temp = temp // 10\n",
    "\n",
    "    temp = num\n",
    "    sum = 0\n",
    "    while temp > 0:\n",
    "        last_digit = temp % 10\n",
    "        sum = sum + (last_digit ** count)\n",
    "        temp = temp // 10\n",
    "    if num == sum:\n",
    "        print(num)\n",
    "\n",
    "    "
   ]
  },
  {
   "cell_type": "code",
   "execution_count": 22,
   "id": "30f1ac60-1037-40e1-9912-9bb5a2faad30",
   "metadata": {},
   "outputs": [
    {
     "name": "stdin",
     "output_type": "stream",
     "text": [
      " 10\n"
     ]
    },
    {
     "name": "stdout",
     "output_type": "stream",
     "text": [
      "sum of natural numbers: 55\n"
     ]
    }
   ],
   "source": [
    "#6\n",
    "n = int(input())\n",
    "sum = 0\n",
    "for i in range(1,n+1):\n",
    "    sum += i\n",
    "print(\"sum of natural numbers:\",sum)"
   ]
  },
  {
   "cell_type": "code",
   "execution_count": null,
   "id": "8952cbc1-e255-4d8c-930b-ebc6d9097654",
   "metadata": {},
   "outputs": [],
   "source": []
  }
 ],
 "metadata": {
  "kernelspec": {
   "display_name": "Python 3 (ipykernel)",
   "language": "python",
   "name": "python3"
  },
  "language_info": {
   "codemirror_mode": {
    "name": "ipython",
    "version": 3
   },
   "file_extension": ".py",
   "mimetype": "text/x-python",
   "name": "python",
   "nbconvert_exporter": "python",
   "pygments_lexer": "ipython3",
   "version": "3.8.1"
  }
 },
 "nbformat": 4,
 "nbformat_minor": 5
}
