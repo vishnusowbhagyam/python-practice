{
 "cells": [
  {
   "cell_type": "markdown",
   "id": "a902e882-8761-4b68-9cbd-33e149dad2dd",
   "metadata": {},
   "source": [
    "1. Write a Python Program to find sum of array?\n",
    "2. Write a Python Program to find largest element in an array?\n",
    "3. Write a Python Program for array rotation?\n",
    "4. Write a Python Program to Split the array and add the first part to the end?\n",
    "5. Write a Python Program to check if given array is Monotonic?"
   ]
  },
  {
   "cell_type": "code",
   "execution_count": 5,
   "id": "f1e31ab7-1441-47a8-85b6-b2220a55c350",
   "metadata": {},
   "outputs": [
    {
     "name": "stdin",
     "output_type": "stream",
     "text": [
      " 1 2 3 4 5 6\n"
     ]
    },
    {
     "name": "stdout",
     "output_type": "stream",
     "text": [
      "sum of an array:21\n"
     ]
    }
   ],
   "source": [
    "#1\n",
    "arr = list(map(int,input().split()))\n",
    "sum = 0\n",
    "for i in arr:\n",
    "    sum += i\n",
    "print(f\"sum of an array:{sum}\")"
   ]
  },
  {
   "cell_type": "code",
   "execution_count": 8,
   "id": "6f0e07e6-5070-4de1-9418-c9cb3b3cfa76",
   "metadata": {},
   "outputs": [
    {
     "name": "stdin",
     "output_type": "stream",
     "text": [
      " 12 124 215 148 15\n"
     ]
    },
    {
     "name": "stdout",
     "output_type": "stream",
     "text": [
      "Largest element in an array: 215\n"
     ]
    }
   ],
   "source": [
    "#2\n",
    "arr = list(map(int,input().split()))\n",
    "max = 0\n",
    "for i in arr:\n",
    "    if i > max:\n",
    "        max = i\n",
    "print(f\"Largest element in an array: {max}\")"
   ]
  },
  {
   "cell_type": "code",
   "execution_count": 15,
   "id": "98acd342-1d50-49d4-961b-b34e5d61cad1",
   "metadata": {},
   "outputs": [
    {
     "name": "stdin",
     "output_type": "stream",
     "text": [
      " 1 2 3 4 5 6\n"
     ]
    },
    {
     "name": "stdout",
     "output_type": "stream",
     "text": [
      "after array rotation: [6, 5, 4, 3, 2, 1]\n"
     ]
    }
   ],
   "source": [
    "#3\n",
    "arr = list(map(int,input().split()))\n",
    "arr1 = []\n",
    "for i in range(len(arr)-1,-1,-1):\n",
    "    arr1.append(arr[i])\n",
    "print(f\"after array rotation: {arr1}\")\n",
    "    "
   ]
  },
  {
   "cell_type": "code",
   "execution_count": 17,
   "id": "85684ca1-4f95-4338-b43e-5316dafac5f6",
   "metadata": {},
   "outputs": [
    {
     "name": "stdin",
     "output_type": "stream",
     "text": [
      " 1 2 3 4 5 6\n"
     ]
    },
    {
     "name": "stdout",
     "output_type": "stream",
     "text": [
      "[4, 5, 6, 1, 2, 3]\n"
     ]
    }
   ],
   "source": [
    "#4\n",
    "lst = list(map(int,input().split()))\n",
    "n = len(lst)\n",
    "print(lst[n//2:]+lst[0:n//2])"
   ]
  },
  {
   "cell_type": "code",
   "execution_count": 19,
   "id": "8baa6e26-115c-4193-94a9-26fc85ceb7af",
   "metadata": {},
   "outputs": [
    {
     "name": "stdin",
     "output_type": "stream",
     "text": [
      "Enter the Array:  1 2 3 4 5 6\n"
     ]
    },
    {
     "name": "stdout",
     "output_type": "stream",
     "text": [
      "Array [1, 2, 3, 4, 5, 6] is Monotonic\n"
     ]
    }
   ],
   "source": [
    "in_arr = list(map(int,input(\"Enter the Array: \").split()))\n",
    "if(all(in_arr[i]<=in_arr[i+1] for i in range(len(in_arr)-1)) or all(in_arr[i]>=in_arr[i+1] for i in range(len(in_arr)-1))):\n",
    "    print(f'Array {in_arr} is Monotonic')\n",
    "else:\n",
    "    print(f'Array {in_arr} is Not Monotonic')"
   ]
  },
  {
   "cell_type": "code",
   "execution_count": null,
   "id": "3e371354-6631-41bb-94dc-b6f3267d2a2b",
   "metadata": {},
   "outputs": [],
   "source": []
  }
 ],
 "metadata": {
  "kernelspec": {
   "display_name": "Python 3 (ipykernel)",
   "language": "python",
   "name": "python3"
  },
  "language_info": {
   "codemirror_mode": {
    "name": "ipython",
    "version": 3
   },
   "file_extension": ".py",
   "mimetype": "text/x-python",
   "name": "python",
   "nbconvert_exporter": "python",
   "pygments_lexer": "ipython3",
   "version": "3.8.1"
  }
 },
 "nbformat": 4,
 "nbformat_minor": 5
}
