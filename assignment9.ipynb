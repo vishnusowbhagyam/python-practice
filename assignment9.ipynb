{
 "cells": [
  {
   "cell_type": "markdown",
   "id": "70647176-bcbe-41dd-8f8f-b87a8d1422e1",
   "metadata": {},
   "source": [
    "1. Write a Python program to find sum of elements in list?\n",
    "2. Write a Python program to Multiply all numbers in the list?\n",
    "3. Write a Python program to find smallest number in a list?\n",
    "4. Write a Python program to find largest number in a list?\n",
    "5. Write a Python program to find second largest number in a list?\n",
    "6. Write a Python program to find N largest elements from a list?\n",
    "7. Write a Python program to print even numbers in a list?\n",
    "8. Write a Python program to print odd numbers in a List?\n",
    "9. Write a Python program to Remove empty List from List?\n",
    "10. Write a Python program to Cloning or Copying a list?\n",
    "11. Write a Python program to Count occurrences of an element in a list?"
   ]
  },
  {
   "cell_type": "code",
   "execution_count": 1,
   "id": "03281b3f-e248-4fb0-976a-73c7ea987d51",
   "metadata": {},
   "outputs": [
    {
     "name": "stdin",
     "output_type": "stream",
     "text": [
      " 1 2 3 4 5 6\n"
     ]
    },
    {
     "name": "stdout",
     "output_type": "stream",
     "text": [
      "sum of elements in list:21\n"
     ]
    }
   ],
   "source": [
    "#Write a Python program to find sum of elements in list?\n",
    "lst = list(map(int,input().split()))\n",
    "sum = 0\n",
    "for i in lst:\n",
    "    sum += i\n",
    "print(f\"sum of elements in list:{sum}\")"
   ]
  },
  {
   "cell_type": "code",
   "execution_count": 2,
   "id": "3577150b-301b-4b84-9da8-d6c7fd15a300",
   "metadata": {},
   "outputs": [
    {
     "name": "stdin",
     "output_type": "stream",
     "text": [
      " 1 2 3 4 5 6\n"
     ]
    },
    {
     "name": "stdout",
     "output_type": "stream",
     "text": [
      "sum of elements in list:720\n"
     ]
    }
   ],
   "source": [
    "#Write a Python program to Multiply all numbers in the list?\n",
    "lst = list(map(int,input().split()))\n",
    "sum = 1\n",
    "for i in lst:\n",
    "    sum *= i\n",
    "print(f\"sum of elements in list:{sum}\")"
   ]
  },
  {
   "cell_type": "code",
   "execution_count": 4,
   "id": "3dcb85c6-363b-4f6f-8f16-1ea7dd9c5975",
   "metadata": {},
   "outputs": [
    {
     "name": "stdin",
     "output_type": "stream",
     "text": [
      " 2 4 6 58 7 22 3 1 3 5\n"
     ]
    },
    {
     "name": "stdout",
     "output_type": "stream",
     "text": [
      "smallest element in a list:1\n"
     ]
    }
   ],
   "source": [
    "#Write a Python program to find smallest number in a list?\n",
    "def smallest_element(lst):\n",
    "    min_no = lst[0]\n",
    "    for i in lst:\n",
    "        if i < min_no:\n",
    "            min_no = i\n",
    "    return f\"smallest element in a list:{min_no}\"\n",
    "lst = list(map(int,input().split()))\n",
    "print(smallest_element(lst))"
   ]
  },
  {
   "cell_type": "code",
   "execution_count": 6,
   "id": "5a32dd36-e159-474a-85ea-d179584c471c",
   "metadata": {},
   "outputs": [
    {
     "name": "stdin",
     "output_type": "stream",
     "text": [
      " 1 2 3 4 5 6 7 8 9 98  87  45  69  58452 54684 \n"
     ]
    },
    {
     "name": "stdout",
     "output_type": "stream",
     "text": [
      "Largest element in a list:58452\n"
     ]
    }
   ],
   "source": [
    "#Write a Python program to find largest number in a list?\n",
    "def largest_element(lst):\n",
    "    max_no = lst[0]\n",
    "    for i in lst:\n",
    "        if i > max_no:\n",
    "            max_no = i\n",
    "    return f\"Largest element in a list:{max_no}\"\n",
    "lst = list(map(int,input().split()))\n",
    "print(largest_element(lst))"
   ]
  },
  {
   "cell_type": "code",
   "execution_count": 7,
   "id": "4b17b2b5-f2e4-478c-82f8-06b4cdc5556d",
   "metadata": {},
   "outputs": [
    {
     "name": "stdin",
     "output_type": "stream",
     "text": [
      " 1 2 3 4 5 6 7 8 9 10 12 15 14 13 16 18\n"
     ]
    },
    {
     "name": "stdout",
     "output_type": "stream",
     "text": [
      "16\n"
     ]
    }
   ],
   "source": [
    "def second_largest(lst):\n",
    "    max_no = max(lst)\n",
    "    second_max = 0\n",
    "    for i in lst:\n",
    "        if i < max_no and i > second_max:\n",
    "            second_max = i\n",
    "    return second_max\n",
    "lst = list(map(int,input().split()))\n",
    "print(second_largest(lst))"
   ]
  },
  {
   "cell_type": "code",
   "execution_count": 13,
   "id": "9cb110ec-5bf2-4e3e-a88d-e09403eb7708",
   "metadata": {},
   "outputs": [
    {
     "name": "stdin",
     "output_type": "stream",
     "text": [
      " 1 2 3 4 56 9 56 56 56 54 58 58 56 58 56 58\n"
     ]
    },
    {
     "name": "stdout",
     "output_type": "stream",
     "text": [
      "N largest elements from a list:4 and largest element is 58\n"
     ]
    }
   ],
   "source": [
    "# Write a Python program to find N largest elements from a list?\n",
    "def n_largest_element(lst):\n",
    "    max_element = max(lst)\n",
    "    dict = {}\n",
    "    for i in lst:\n",
    "        if i not in dict:\n",
    "            dict[i] = 1\n",
    "        else:\n",
    "            dict[i] += 1\n",
    "    return f\"N largest elements from a list:{dict[max_element]} and largest element is {max_element}\"\n",
    "lst = list(map(int,input().split()))\n",
    "print(n_largest_element(lst))"
   ]
  },
  {
   "cell_type": "code",
   "execution_count": 16,
   "id": "b8ccd2f6-061d-4f8d-aa28-aee96a522d29",
   "metadata": {},
   "outputs": [
    {
     "name": "stdin",
     "output_type": "stream",
     "text": [
      " 1 2 3 4 5 6 78 9 10 11 12 13 14 151 6\n"
     ]
    },
    {
     "name": "stdout",
     "output_type": "stream",
     "text": [
      "Even numbers in a list is:[2, 4, 6, 78, 10, 12, 14, 6]\n"
     ]
    }
   ],
   "source": [
    "def even(lst):\n",
    "    lst1 = []\n",
    "    for i in lst:\n",
    "        if i % 2 == 0:\n",
    "            lst1.append(i)\n",
    "    return f\"Even numbers in a list is:{lst1}\"\n",
    "lst = list(map(int,input().split()))\n",
    "print(even(lst))"
   ]
  },
  {
   "cell_type": "code",
   "execution_count": 18,
   "id": "5def583d-9b5b-4188-80d0-b374aa2faa3c",
   "metadata": {},
   "outputs": [
    {
     "name": "stdin",
     "output_type": "stream",
     "text": [
      " 1 2 34 5 6 78 9 4 5 6 15 13 16\n"
     ]
    },
    {
     "name": "stdout",
     "output_type": "stream",
     "text": [
      "odd numbers in a list is:[1, 5, 9, 5, 15, 13]\n"
     ]
    }
   ],
   "source": [
    "def odd(lst):\n",
    "    lst1 = []\n",
    "    for i in lst:\n",
    "        if i % 2 != 0:\n",
    "            lst1.append(i)\n",
    "    return f\"odd numbers in a list is:{lst1}\"\n",
    "lst = list(map(int,input().split()))\n",
    "print(odd(lst))"
   ]
  },
  {
   "cell_type": "code",
   "execution_count": 23,
   "id": "55ff5363-5b0c-41d1-bb76-87e8df078745",
   "metadata": {},
   "outputs": [
    {
     "name": "stdin",
     "output_type": "stream",
     "text": [
      "Enter a list of elements:  [[1,2,3],[]]\n"
     ]
    },
    {
     "name": "stdout",
     "output_type": "stream",
     "text": [
      "Odd elements in the list: [[1, 2, 3]]\n"
     ]
    }
   ],
   "source": [
    "l=eval(input('Enter a list of elements: '))\n",
    "s=[i for i in l if len(i)!=0]\n",
    " \n",
    "print('Odd elements in the list:',s)"
   ]
  },
  {
   "cell_type": "code",
   "execution_count": 24,
   "id": "ac7173f3-5e8e-47cc-bafa-c5db64f925bc",
   "metadata": {},
   "outputs": [
    {
     "name": "stdin",
     "output_type": "stream",
     "text": [
      "Enter a list [1,1,23,4]\n"
     ]
    },
    {
     "name": "stdout",
     "output_type": "stream",
     "text": [
      "[1, 1, 23, 4] 2156731880960\n",
      "[1, 1, 23, 4] 2156731881728\n"
     ]
    }
   ],
   "source": [
    "import copy\n",
    "\n",
    "def cloneList():\n",
    "    in_list = eval(input('Enter a list'))\n",
    "    print(in_list, id(in_list))\n",
    "    cloned_list = in_list.copy()\n",
    "    print(cloned_list, id(cloned_list))\n",
    "\n",
    "cloneList()"
   ]
  },
  {
   "cell_type": "code",
   "execution_count": 25,
   "id": "c4ba95c5-2be0-4198-afec-78ae04c4bca7",
   "metadata": {},
   "outputs": [
    {
     "name": "stdin",
     "output_type": "stream",
     "text": [
      " 1 2 3 1 2 34 5 6 4 5 6 4 5 6 4 56 4 7 8 9 123  123 125 14\n"
     ]
    },
    {
     "name": "stdout",
     "output_type": "stream",
     "text": [
      "{1: 2, 2: 2, 3: 1, 34: 1, 5: 3, 6: 3, 4: 4, 56: 1, 7: 1, 8: 1, 9: 1, 123: 2, 125: 1, 14: 1}\n"
     ]
    }
   ],
   "source": [
    "lst = list(map(int,input().split()))\n",
    "dict = {}\n",
    "for i in lst:\n",
    "    if i not in dict:\n",
    "        dict[i] = 1\n",
    "    else:\n",
    "        dict[i] += 1\n",
    "print(dict)"
   ]
  },
  {
   "cell_type": "code",
   "execution_count": null,
   "id": "3307d339-d07b-405a-8ffc-e4fe62c8e0fc",
   "metadata": {},
   "outputs": [],
   "source": []
  }
 ],
 "metadata": {
  "kernelspec": {
   "display_name": "Python 3 (ipykernel)",
   "language": "python",
   "name": "python3"
  },
  "language_info": {
   "codemirror_mode": {
    "name": "ipython",
    "version": 3
   },
   "file_extension": ".py",
   "mimetype": "text/x-python",
   "name": "python",
   "nbconvert_exporter": "python",
   "pygments_lexer": "ipython3",
   "version": "3.8.1"
  }
 },
 "nbformat": 4,
 "nbformat_minor": 5
}
