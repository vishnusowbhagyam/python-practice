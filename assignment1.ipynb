{
 "cells": [
  {
   "cell_type": "markdown",
   "id": "b0f6c077-9ad8-4882-8377-d43e070572fe",
   "metadata": {},
   "source": [
    "1. Write a Python program to print \"Hello Python\"?\n",
    "2. Write a Python program to do arithmetical operations addition and division.?\n",
    "3. Write a Python program to find the area of a triangle?\n",
    "4. Write a Python program to swap two variables?\n",
    "5. Write a Python program to generate a random number?"
   ]
  },
  {
   "cell_type": "code",
   "execution_count": 1,
   "id": "c31267d4-821a-476a-9d22-aec9fb4f97f8",
   "metadata": {},
   "outputs": [
    {
     "name": "stdin",
     "output_type": "stream",
     "text": [
      " Hello Python?\n"
     ]
    },
    {
     "name": "stdout",
     "output_type": "stream",
     "text": [
      "Hello Python?\n"
     ]
    }
   ],
   "source": [
    "#1\n",
    "string = input()\n",
    "print(string)"
   ]
  },
  {
   "cell_type": "code",
   "execution_count": 4,
   "id": "54651915-9dac-4d6f-a2a5-598ad39f6136",
   "metadata": {},
   "outputs": [
    {
     "name": "stdin",
     "output_type": "stream",
     "text": [
      " 11 12\n"
     ]
    },
    {
     "name": "stdout",
     "output_type": "stream",
     "text": [
      "addition: 23\n",
      "division: 0.9166666666666666\n"
     ]
    }
   ],
   "source": [
    "#2\n",
    "a,b = map(int,input().split())\n",
    "addition = a + b\n",
    "division = a / b\n",
    "print(f\"addition: {addition}\\ndivision: {division}\")"
   ]
  },
  {
   "cell_type": "code",
   "execution_count": 9,
   "id": "ac6f135c-83e3-48e4-b045-c3b84a526567",
   "metadata": {},
   "outputs": [
    {
     "name": "stdin",
     "output_type": "stream",
     "text": [
      " 12\n",
      " 10\n"
     ]
    },
    {
     "name": "stdout",
     "output_type": "stream",
     "text": [
      "area of triangle: 60.0\n"
     ]
    }
   ],
   "source": [
    "#3\n",
    "base = float(input())\n",
    "height = float(input())\n",
    "area = 0.5 * base * height\n",
    "print(\"area of triangle:\",area)"
   ]
  },
  {
   "cell_type": "code",
   "execution_count": 10,
   "id": "8e45dbf0-d1c6-4948-8275-055d1eaad8d6",
   "metadata": {},
   "outputs": [
    {
     "name": "stdin",
     "output_type": "stream",
     "text": [
      " 1\n",
      " 2\n"
     ]
    },
    {
     "name": "stdout",
     "output_type": "stream",
     "text": [
      "2 1\n"
     ]
    }
   ],
   "source": [
    "#4\n",
    "a = int(input())\n",
    "b = int(input())\n",
    "a , b = b , a\n",
    "print(a,b)"
   ]
  },
  {
   "cell_type": "code",
   "execution_count": 13,
   "id": "3048493e-5506-400b-a8cd-5ea8b47f2d8b",
   "metadata": {},
   "outputs": [
    {
     "name": "stdout",
     "output_type": "stream",
     "text": [
      "34\n"
     ]
    }
   ],
   "source": [
    "#5\n",
    "import random\n",
    "print(random.randint(1,100))"
   ]
  },
  {
   "cell_type": "code",
   "execution_count": null,
   "id": "312179b2-bb26-4330-bca0-118cc03ad4cc",
   "metadata": {},
   "outputs": [],
   "source": []
  }
 ],
 "metadata": {
  "kernelspec": {
   "display_name": "Python 3 (ipykernel)",
   "language": "python",
   "name": "python3"
  },
  "language_info": {
   "codemirror_mode": {
    "name": "ipython",
    "version": 3
   },
   "file_extension": ".py",
   "mimetype": "text/x-python",
   "name": "python",
   "nbconvert_exporter": "python",
   "pygments_lexer": "ipython3",
   "version": "3.8.1"
  }
 },
 "nbformat": 4,
 "nbformat_minor": 5
}
