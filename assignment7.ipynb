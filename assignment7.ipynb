{
 "cells": [
  {
   "cell_type": "markdown",
   "id": "01c22656-d777-4799-9211-661a62213659",
   "metadata": {},
   "source": [
    "1. Write a Python Program to Add Two Matrices?\n",
    "2. Write a Python Program to Multiply Two Matrices?\n",
    "3. Write a Python Program to Transpose a Matrix?\n",
    "4. Write a Python Program to Sort Words in Alphabetic Order?\n",
    "5. Write a Python Program to Remove Punctuation From a String?"
   ]
  },
  {
   "cell_type": "code",
   "execution_count": 31,
   "id": "f8167115-4681-4f14-8853-77711d2a7d47",
   "metadata": {},
   "outputs": [
    {
     "name": "stdout",
     "output_type": "stream",
     "text": [
      "[[2, 4, 6], [8, 10, 12], [14, 16, 18]]\n"
     ]
    }
   ],
   "source": [
    "def addition_of_matrices(a,b):\n",
    "    n1 = len(a)\n",
    "    n2 = len(b)\n",
    "    sum_matrix = []\n",
    "    for i in range(n1):\n",
    "        temp = []\n",
    "        for j in range(n2):\n",
    "            temp1 = a[i][j] + b[i][j]\n",
    "            temp.append(temp1)\n",
    "        sum_matrix.append(temp)\n",
    "        \n",
    "    return sum_matrix\n",
    "s = addition_of_matrices([[1,2,3],[4,5,6],[7,8,9]],[[1,2,3],[4,5,6],[7,8,9]])\n",
    "print(s)\n",
    "            \n",
    "    \n",
    "    "
   ]
  },
  {
   "cell_type": "code",
   "execution_count": 1,
   "id": "6bb17684-019a-4e6d-8f09-e3a8e995821d",
   "metadata": {},
   "outputs": [
    {
     "name": "stdout",
     "output_type": "stream",
     "text": [
      "[[1, 4, 9], [16, 25, 36], [49, 64, 81]]\n"
     ]
    }
   ],
   "source": [
    "#2\n",
    "def multiplication_of_matrices(a,b):\n",
    "    n1 = len(a)\n",
    "    n2 = len(b)\n",
    "    sum_matrix = []\n",
    "    for i in range(n1):\n",
    "        temp = []\n",
    "        for j in range(n2):\n",
    "            temp1 = a[i][j] * b[i][j]\n",
    "            temp.append(temp1)\n",
    "        sum_matrix.append(temp)\n",
    "        \n",
    "    return sum_matrix\n",
    "s = multiplication_of_matrices([[1,2,3],[4,5,6],[7,8,9]],[[1,2,3],[4,5,6],[7,8,9]])\n",
    "print(s)"
   ]
  },
  {
   "cell_type": "code",
   "execution_count": 7,
   "id": "06dfbbb3-1b31-4538-9d13-c35af9fcfe06",
   "metadata": {},
   "outputs": [
    {
     "name": "stdout",
     "output_type": "stream",
     "text": [
      "[[1, 4, 7], [2, 5, 8], [3, 6, 9]]\n"
     ]
    }
   ],
   "source": [
    "#3\n",
    "def transpose_of_matrix(a):\n",
    "    n = len(a)\n",
    "    transpose_matrix = []\n",
    "    for i in range(n):\n",
    "        temp = []\n",
    "        for j in range(n):\n",
    "            temp.append(a[j][i])\n",
    "        transpose_matrix.append(temp)\n",
    "    return transpose_matrix\n",
    "s = transpose_of_matrix([[1,2,3],[4,5,6],[7,8,9]])\n",
    "print(s)"
   ]
  },
  {
   "cell_type": "code",
   "execution_count": 3,
   "id": "f5190944-3617-49fb-8367-0bcb2527fede",
   "metadata": {},
   "outputs": [
    {
     "name": "stdin",
     "output_type": "stream",
     "text": [
      " kavya ravi raju meenu geetu jaya vijay ram\n"
     ]
    },
    {
     "name": "stdout",
     "output_type": "stream",
     "text": [
      "['geetu', 'jaya', 'kavya', 'meenu', 'raju', 'ram', 'ravi', 'vijay']\n"
     ]
    }
   ],
   "source": [
    "#4 Write a Python Program to Sort Words in Alphabetic Order?\n",
    "lst = list(map(str,input().split()))\n",
    "lst.sort()\n",
    "print(lst)\n"
   ]
  },
  {
   "cell_type": "code",
   "execution_count": 7,
   "id": "a0309eba-9424-4080-b149-301fb9452458",
   "metadata": {},
   "outputs": [
    {
     "name": "stdin",
     "output_type": "stream",
     "text": [
      " fhyhd@#$%5fhy67\n"
     ]
    },
    {
     "name": "stdout",
     "output_type": "stream",
     "text": [
      "fhyhd5fhy67\n"
     ]
    }
   ],
   "source": [
    "#5 \n",
    "string = input()\n",
    "string1 = \"\"\n",
    "for i in string:\n",
    "    if i.isalpha() or i.isdigit():\n",
    "        string1 += i\n",
    "\n",
    "print(string1)\n",
    "        "
   ]
  },
  {
   "cell_type": "code",
   "execution_count": null,
   "id": "085b0ef4-8038-4c92-a886-306a81258123",
   "metadata": {},
   "outputs": [],
   "source": []
  }
 ],
 "metadata": {
  "kernelspec": {
   "display_name": "Python 3 (ipykernel)",
   "language": "python",
   "name": "python3"
  },
  "language_info": {
   "codemirror_mode": {
    "name": "ipython",
    "version": 3
   },
   "file_extension": ".py",
   "mimetype": "text/x-python",
   "name": "python",
   "nbconvert_exporter": "python",
   "pygments_lexer": "ipython3",
   "version": "3.8.1"
  }
 },
 "nbformat": 4,
 "nbformat_minor": 5
}
