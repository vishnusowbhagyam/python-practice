{
 "cells": [
  {
   "cell_type": "markdown",
   "id": "3bccb18f-e3b9-41d6-83d4-4982e5d51382",
   "metadata": {},
   "source": [
    "1. Write a Python program to convert kilometers to miles?\n",
    "2. Write a Python program to convert Celsius to Fahrenheit?\n",
    "3. Write a Python program to display calendar?\n",
    "4. Write a Python program to solve quadratic equation?\n",
    "5. Write a Python program to swap two variables without temp variable?"
   ]
  },
  {
   "cell_type": "code",
   "execution_count": 3,
   "id": "9866f2e4-3b67-47ba-bbfd-f45338ff3ced",
   "metadata": {},
   "outputs": [
    {
     "name": "stdin",
     "output_type": "stream",
     "text": [
      " 6\n",
      " 10\n"
     ]
    },
    {
     "name": "stdout",
     "output_type": "stream",
     "text": [
      "kilometers to miles : 3.5999999999999996\n",
      " miles to kilometers : 16.0\n"
     ]
    }
   ],
   "source": [
    "#1\n",
    "#1kilometer = 0.6miles\n",
    "#1 mile = 1.6km\n",
    "km = float(input())\n",
    "miles = float(input())\n",
    "kilometer_miles = 0.6 * km\n",
    "miles_kilometers = 1.6 * miles\n",
    "print(f\"kilometers to miles : {kilometer_miles}\\n miles to kilometers : {miles_kilometers}\")\n"
   ]
  },
  {
   "cell_type": "code",
   "execution_count": 4,
   "id": "63c2264b-99ee-4167-a921-90b5fbe433c6",
   "metadata": {},
   "outputs": [
    {
     "name": "stdin",
     "output_type": "stream",
     "text": [
      " 15\n",
      " 40\n"
     ]
    },
    {
     "name": "stdout",
     "output_type": "stream",
     "text": [
      "celsius to fahrenheit:59.0\n",
      "fahrenheit to celsius:4.444444444444445\n"
     ]
    }
   ],
   "source": [
    "#2\n",
    "#celsius to fahrenheit = c*9/5 +32\n",
    "#fahrenheit to celsius = (f-32)*5/9\n",
    "c = float(input())\n",
    "f = float(input())\n",
    "c_to_f = (c*9/5)+32\n",
    "f_to_c = (f-32)*5/9\n",
    "print(f\"celsius to fahrenheit:{c_to_f}\\nfahrenheit to celsius:{f_to_c}\")"
   ]
  },
  {
   "cell_type": "code",
   "execution_count": 2,
   "id": "4c9929cd-bd46-4abc-b1fb-aa950a302452",
   "metadata": {},
   "outputs": [
    {
     "name": "stdout",
     "output_type": "stream",
     "text": [
      "c:\\users\\lenovo\\appdata\\local\\programs\\python\\python38\\python.exe\n"
     ]
    },
    {
     "ename": "ModuleNotFoundError",
     "evalue": "No module named 'calender'",
     "output_type": "error",
     "traceback": [
      "\u001b[1;31m---------------------------------------------------------------------------\u001b[0m",
      "\u001b[1;31mModuleNotFoundError\u001b[0m                       Traceback (most recent call last)",
      "Cell \u001b[1;32mIn[2], line 4\u001b[0m\n\u001b[0;32m      2\u001b[0m \u001b[38;5;28;01mimport\u001b[39;00m \u001b[38;5;21;01msys\u001b[39;00m\n\u001b[0;32m      3\u001b[0m \u001b[38;5;28mprint\u001b[39m(sys\u001b[38;5;241m.\u001b[39mexecutable)\n\u001b[1;32m----> 4\u001b[0m \u001b[38;5;28;01mimport\u001b[39;00m \u001b[38;5;21;01mcalender\u001b[39;00m\n\u001b[0;32m      5\u001b[0m year \u001b[38;5;241m=\u001b[39m \u001b[38;5;28mint\u001b[39m(\u001b[38;5;28minput\u001b[39m(\u001b[38;5;124m\"\u001b[39m\u001b[38;5;124mEnter any year: \u001b[39m\u001b[38;5;124m\"\u001b[39m))\n\u001b[0;32m      6\u001b[0m month \u001b[38;5;241m=\u001b[39m \u001b[38;5;28mint\u001b[39m(\u001b[38;5;28minput\u001b[39m(\u001b[38;5;124m\"\u001b[39m\u001b[38;5;124mEnter a month (1-12): \u001b[39m\u001b[38;5;124m\"\u001b[39m))\n",
      "\u001b[1;31mModuleNotFoundError\u001b[0m: No module named 'calender'"
     ]
    }
   ],
   "source": [
    "#3\n",
    "import sys\n",
    "print(sys.executable)\n",
    "import calender\n",
    "year = int(input(\"Enter any year: \"))\n",
    "month = int(input(\"Enter a month (1-12): \"))\n",
    "print(calender.month(year,month))\n",
    "print(calender.calender(year))"
   ]
  },
  {
   "cell_type": "code",
   "execution_count": 3,
   "id": "89196879-6dcf-4aed-b82c-314c830df08e",
   "metadata": {},
   "outputs": [
    {
     "name": "stdin",
     "output_type": "stream",
     "text": [
      " 1 -60 60\n"
     ]
    },
    {
     "name": "stdout",
     "output_type": "stream",
     "text": [
      "58.982753492378876 1.017246507621124\n"
     ]
    }
   ],
   "source": [
    "#4\n",
    "#quadratic equation : -b+-(b**2-4*a*c)**0.5/2a\n",
    "a,b,c = map(int,input().split())\n",
    "denominator = 2*a\n",
    "numerator = (b**2 - 4*a*c)**0.5\n",
    "root1 = (-b + numerator)/denominator\n",
    "root2 = (-b - numerator)/denominator\n",
    "print(root1,root2)"
   ]
  },
  {
   "cell_type": "code",
   "execution_count": 9,
   "id": "38cde7a5-f943-4f68-9054-6cdfb808fc7c",
   "metadata": {},
   "outputs": [
    {
     "name": "stdin",
     "output_type": "stream",
     "text": [
      " 11 5\n"
     ]
    },
    {
     "name": "stdout",
     "output_type": "stream",
     "text": [
      "5 11\n"
     ]
    }
   ],
   "source": [
    "#5\n",
    "a,b = map(int,input().split())\n",
    "a = a + b\n",
    "b = a - b\n",
    "a = a - b\n",
    "print(a,b)"
   ]
  },
  {
   "cell_type": "code",
   "execution_count": null,
   "id": "ee6b3abb-c9fc-481d-8b19-2801024a918f",
   "metadata": {},
   "outputs": [],
   "source": []
  }
 ],
 "metadata": {
  "kernelspec": {
   "display_name": "Python 3 (ipykernel)",
   "language": "python",
   "name": "python3"
  },
  "language_info": {
   "codemirror_mode": {
    "name": "ipython",
    "version": 3
   },
   "file_extension": ".py",
   "mimetype": "text/x-python",
   "name": "python",
   "nbconvert_exporter": "python",
   "pygments_lexer": "ipython3",
   "version": "3.8.1"
  }
 },
 "nbformat": 4,
 "nbformat_minor": 5
}
