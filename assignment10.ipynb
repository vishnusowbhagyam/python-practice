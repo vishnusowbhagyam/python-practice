{
 "cells": [
  {
   "cell_type": "markdown",
   "id": "269f184a-05d8-4c8c-833c-dfad99d85f36",
   "metadata": {},
   "source": [
    "1. Write a Python program to find words which are greater than given length k?\n",
    "2. Write a Python program for removing i-th character from a string?\n",
    "3. Write a Python program to split and join a string?\n",
    "4. Write a Python to check if a given string is binary string or not?\n",
    "5. Write a Python program to find uncommon words from two Strings?\n",
    "6. Write a Python to find all duplicate characters in string?\n",
    "7. Write a Python Program to check if a string contains any special character?"
   ]
  },
  {
   "cell_type": "code",
   "execution_count": 2,
   "id": "f8ec7320-976a-48c1-b7b1-b0e1e9d96fa9",
   "metadata": {},
   "outputs": [
    {
     "name": "stdin",
     "output_type": "stream",
     "text": [
      " anju jaya kavya rani vyshu vishnu kittu\n",
      " 4\n"
     ]
    },
    {
     "name": "stdout",
     "output_type": "stream",
     "text": [
      "['kavya', 'vyshu', 'vishnu', 'kittu']\n"
     ]
    }
   ],
   "source": [
    "#1\n",
    "lst = list(map(str,input().split()))\n",
    "n = int(input())\n",
    "lst1 = []\n",
    "for i in lst:\n",
    "    if len(i) > n:\n",
    "        lst1.append(i)\n",
    "print(lst1)"
   ]
  },
  {
   "cell_type": "code",
   "execution_count": 6,
   "id": "c315cfab-6573-46c8-ac6d-5eae66a1bd20",
   "metadata": {},
   "outputs": [
    {
     "name": "stdin",
     "output_type": "stream",
     "text": [
      " kavya\n",
      " 2\n"
     ]
    },
    {
     "name": "stdout",
     "output_type": "stream",
     "text": [
      "kaya\n"
     ]
    }
   ],
   "source": [
    "#2\n",
    "def remove_char(lst,n):\n",
    "    lst1 = lst[:n]+lst[n+1:]\n",
    "    return \"\".join(lst1)\n",
    "lst = input()\n",
    "n = int(input())\n",
    "print(remove_char(lst,n))"
   ]
  },
  {
   "cell_type": "code",
   "execution_count": 10,
   "id": "17bcbf27-6125-4dbb-a4a4-f4c9c3ebd54c",
   "metadata": {},
   "outputs": [
    {
     "name": "stdin",
     "output_type": "stream",
     "text": [
      " vani\n"
     ]
    },
    {
     "name": "stdout",
     "output_type": "stream",
     "text": [
      "splitted string: ['v', 'a', 'n', 'i']\n",
      "joined splitted string: vani\n"
     ]
    }
   ],
   "source": [
    "#3\n",
    "s = input()\n",
    "lst = list(s)\n",
    "print(\"splitted string:\",lst)\n",
    "s1 = \"\".join(lst)\n",
    "print(\"joined splitted string:\",s1)"
   ]
  },
  {
   "cell_type": "code",
   "execution_count": 14,
   "id": "0d8ef291-8818-4a57-8fb1-10fb2a38383e",
   "metadata": {},
   "outputs": [
    {
     "name": "stdin",
     "output_type": "stream",
     "text": [
      " 120\n"
     ]
    },
    {
     "name": "stdout",
     "output_type": "stream",
     "text": [
      "Not a binary string\n"
     ]
    }
   ],
   "source": [
    "#4\n",
    "s = input()\n",
    "count = 0\n",
    "for i in s:\n",
    "    if i != 0 or i != 1:\n",
    "        continue\n",
    "    else:\n",
    "        print(\"Binary string\")\n",
    "else:\n",
    "    print(\"Not a binary string\")\n",
    "        "
   ]
  },
  {
   "cell_type": "code",
   "execution_count": 18,
   "id": "5cfed15c-2223-4f99-a59d-159e32c5608c",
   "metadata": {},
   "outputs": [
    {
     "name": "stdin",
     "output_type": "stream",
     "text": [
      " orange apple banana carrot\n",
      " beetroot orange guava apple\n"
     ]
    },
    {
     "name": "stdout",
     "output_type": "stream",
     "text": [
      "{'banana', 'guava', 'beetroot', 'carrot'}\n"
     ]
    }
   ],
   "source": [
    "#5\n",
    "s1 = set(input().split())\n",
    "s2 = set(input().split())\n",
    "uncommon = (s1.union(s2)).difference(s1.intersection(s2))\n",
    "print(uncommon)"
   ]
  },
  {
   "cell_type": "code",
   "execution_count": 19,
   "id": "7001fb80-ca8e-45a8-b7a7-2f7afb1f1a4f",
   "metadata": {},
   "outputs": [
    {
     "name": "stdin",
     "output_type": "stream",
     "text": [
      " aedsaevcgd\n"
     ]
    },
    {
     "name": "stdout",
     "output_type": "stream",
     "text": [
      "aed\n"
     ]
    }
   ],
   "source": [
    "#6\n",
    "s = input()\n",
    "s1 = \"\"\n",
    "s2 = \"\"\n",
    "for i in s:\n",
    "    if i not in s1:\n",
    "        s1+=i\n",
    "    else:\n",
    "        s2 += i\n",
    "print(s2)"
   ]
  },
  {
   "cell_type": "code",
   "execution_count": 22,
   "id": "5724009b-a3a7-490a-a70e-4216ec648265",
   "metadata": {},
   "outputs": [
    {
     "name": "stdin",
     "output_type": "stream",
     "text": [
      " aeswe!\n"
     ]
    },
    {
     "name": "stdout",
     "output_type": "stream",
     "text": [
      "string contains special character\n"
     ]
    }
   ],
   "source": [
    "#7\n",
    "s = input()\n",
    "special = \"!@#$?,:'&^\"\n",
    "for i in s:\n",
    "    if i in special:\n",
    "        print(\"string contains special character\")\n",
    "        break\n",
    "else:\n",
    "    print(\"string does not contains any special character\")\n",
    "        "
   ]
  },
  {
   "cell_type": "code",
   "execution_count": null,
   "id": "7356739c-0d6c-41cd-a1cf-be9cdb7750e3",
   "metadata": {},
   "outputs": [],
   "source": []
  }
 ],
 "metadata": {
  "kernelspec": {
   "display_name": "Python 3 (ipykernel)",
   "language": "python",
   "name": "python3"
  },
  "language_info": {
   "codemirror_mode": {
    "name": "ipython",
    "version": 3
   },
   "file_extension": ".py",
   "mimetype": "text/x-python",
   "name": "python",
   "nbconvert_exporter": "python",
   "pygments_lexer": "ipython3",
   "version": "3.8.1"
  }
 },
 "nbformat": 4,
 "nbformat_minor": 5
}
