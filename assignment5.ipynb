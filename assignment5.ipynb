{
 "cells": [
  {
   "cell_type": "markdown",
   "id": "207a3cd2-2ba4-4454-93d2-0f7b0733023a",
   "metadata": {},
   "source": [
    "1. Write a Python Program to Display Fibonacci Sequence Using Recursion?\n",
    "2. Write a Python Program to Find Factorial of Number Using Recursion?\n",
    "3. Write a Python Program to calculate your Body Mass Index?\n",
    "4. Write a Python Program to calculate the natural logarithm of any number?\n",
    "5. Write a Python Program for cube sum of first n natural numbers?"
   ]
  },
  {
   "cell_type": "code",
   "execution_count": 5,
   "id": "57136e7c-9409-46ad-8110-6fc8442f16f6",
   "metadata": {},
   "outputs": [
    {
     "name": "stdin",
     "output_type": "stream",
     "text": [
      " 10\n"
     ]
    },
    {
     "name": "stdout",
     "output_type": "stream",
     "text": [
      "0,1,1,2,3,5,8,13,21,34,"
     ]
    }
   ],
   "source": [
    "#1\n",
    "def fibonacci(n):\n",
    "        if n == 0:\n",
    "            return 0\n",
    "        elif n == 1:\n",
    "            return 1\n",
    "        else:\n",
    "            return fibonacci(n-1)+fibonacci(n-2)\n",
    "n = int(input())\n",
    "for i in range(n):\n",
    "    print(fibonacci(i),end=\",\")"
   ]
  },
  {
   "cell_type": "code",
   "execution_count": 12,
   "id": "74d37f0b-cd12-4834-83eb-9c618d9d5187",
   "metadata": {},
   "outputs": [
    {
     "name": "stdin",
     "output_type": "stream",
     "text": [
      " 5\n"
     ]
    },
    {
     "name": "stdout",
     "output_type": "stream",
     "text": [
      "120\n"
     ]
    }
   ],
   "source": [
    "#2\n",
    "def factorial(n):\n",
    "    if n == 1:\n",
    "        return 1\n",
    "    else:\n",
    "        return n*factorial(n-1)\n",
    "n = int(input())\n",
    "print(factorial(n))"
   ]
  },
  {
   "cell_type": "code",
   "execution_count": 15,
   "id": "a1fa829d-4b00-4da5-8dd1-329ba95f7809",
   "metadata": {},
   "outputs": [
    {
     "name": "stdin",
     "output_type": "stream",
     "text": [
      "enter height in m:  1.75\n",
      "enter weight in kg:  70\n"
     ]
    },
    {
     "name": "stdout",
     "output_type": "stream",
     "text": [
      "22.857142857142858 results to normal weight\n"
     ]
    }
   ],
   "source": [
    "#3\n",
    "def bmi(height,weight):\n",
    "    deno = height**2\n",
    "    return weight/deno\n",
    "height = float(input(\"enter height in m: \"))\n",
    "weight = int(input(\"enter weight in kg: \"))\n",
    "res = bmi(height,weight)\n",
    "if res < 18.5:\n",
    "    print(f\"{res} results to underweight\")\n",
    "elif(res>18.5 and res<24.9):\n",
    "    print(f\"{res} results to normal weight\")\n",
    "elif(res>25 and res<29.9):\n",
    "    print(f\"{res} results to over weight\")\n",
    "else:\n",
    "    print(f\"{res} results to obesity\")"
   ]
  },
  {
   "cell_type": "code",
   "execution_count": 16,
   "id": "f41e6c0b-4759-48ac-9978-5b5cf79f1dc0",
   "metadata": {},
   "outputs": [
    {
     "name": "stdin",
     "output_type": "stream",
     "text": [
      " 10\n"
     ]
    },
    {
     "name": "stdout",
     "output_type": "stream",
     "text": [
      "ln10 = 2.302585092994046\n"
     ]
    }
   ],
   "source": [
    "#4\n",
    "import math\n",
    "n = int(input())\n",
    "ln = math.log(n)\n",
    "print(f\"ln{n} = {ln}\")"
   ]
  },
  {
   "cell_type": "code",
   "execution_count": 17,
   "id": "2f179128-afda-4c5c-b68d-a9c4d24b9835",
   "metadata": {},
   "outputs": [
    {
     "name": "stdin",
     "output_type": "stream",
     "text": [
      " 5\n"
     ]
    },
    {
     "name": "stdout",
     "output_type": "stream",
     "text": [
      "cube sum of first 5 natural numbers:225\n"
     ]
    }
   ],
   "source": [
    "def cube_sum(n):\n",
    "    sum = 0\n",
    "    for i in range(1,n+1):\n",
    "        sum += i**3\n",
    "    return f\"cube sum of first {n} natural numbers:{sum}\"\n",
    "n = int(input())\n",
    "print(cube_sum(n))"
   ]
  },
  {
   "cell_type": "code",
   "execution_count": null,
   "id": "d9df9756-71d2-41bc-be3d-6424b18f8803",
   "metadata": {},
   "outputs": [],
   "source": []
  }
 ],
 "metadata": {
  "kernelspec": {
   "display_name": "Python 3 (ipykernel)",
   "language": "python",
   "name": "python3"
  },
  "language_info": {
   "codemirror_mode": {
    "name": "ipython",
    "version": 3
   },
   "file_extension": ".py",
   "mimetype": "text/x-python",
   "name": "python",
   "nbconvert_exporter": "python",
   "pygments_lexer": "ipython3",
   "version": "3.8.1"
  }
 },
 "nbformat": 4,
 "nbformat_minor": 5
}
