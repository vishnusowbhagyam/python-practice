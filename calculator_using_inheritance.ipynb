{
 "cells": [
  {
   "cell_type": "markdown",
   "id": "0a7088d7-de60-4671-899d-36c083c49f1c",
   "metadata": {},
   "source": [
    "1. single inheritance\n",
    "2. multi level inheritance\n",
    "3. multiple inhetance\n",
    "4. hierarchial inheritance\n",
    "5. hybrid inheritance\n"
   ]
  },
  {
   "cell_type": "code",
   "execution_count": 7,
   "id": "43b637ca-ab2e-4a19-8d4a-2b38ef1d6846",
   "metadata": {},
   "outputs": [
    {
     "name": "stdin",
     "output_type": "stream",
     "text": [
      " 14\n",
      " 15\n",
      " +\n"
     ]
    },
    {
     "name": "stdout",
     "output_type": "stream",
     "text": [
      "addition of 14,15:29\n"
     ]
    }
   ],
   "source": [
    "#single inheritance\n",
    "import math\n",
    "class BasicCalculator:\n",
    "    def __init__(self,a,b,option):\n",
    "        self.a = a\n",
    "        self.b = b\n",
    "        self.option = option\n",
    "    def addition(self):\n",
    "        return f\"addition of {self.a},{self.b}:{self.a + self.b}\"\n",
    "    def subtraction(self):\n",
    "        return f\"subtraction of {self.a},{self.b}:{self.a - self.b}\"\n",
    "    def multiplication(self):\n",
    "        return f\"multiplication of {self.a},{self.b}:{self.a * self.b}\"\n",
    "    def division(self):\n",
    "        return f\"division of {self.a},{self.b}:{self.a/self.b}\"\n",
    "class AdvancedCalculator(BasicCalculator):\n",
    "    def __init__(self,a,b,option):\n",
    "        super().__init__(a,b,option)\n",
    "    def squareroot(self):\n",
    "        return f\"square root of {self.a}:{self.a**0.5}\"\n",
    "    def power(self):\n",
    "        return f\"power of {self.a}:{self.a**2}\"\n",
    "    def logarithm(self):\n",
    "        return f\"logarithm of {self.a}:{math.log(self.log)})\"\n",
    "    def show(self):\n",
    "        if self.option == \"+\":\n",
    "            print(super().addition())\n",
    "        elif(self.option == \"-\"):\n",
    "            print(super().subtraction())\n",
    "        elif(self.option == \"*\"):\n",
    "            print(super().multiplication())\n",
    "        elif(self.option == \"/\"):\n",
    "            print(super().division())\n",
    "        elif(self.option == \"sqrt\"):\n",
    "            print(super().squareroot())\n",
    "        elif(self.option == \"**\"):\n",
    "            print(super().power())\n",
    "        elif(self.option == \"log\"):\n",
    "            print(super().logarithm())\n",
    "        else:\n",
    "            return \"please enter option in +,-,*,/,sqrt,**,log\"\n",
    "\n",
    "a = int(input())\n",
    "b = int(input())\n",
    "option = input()\n",
    "obj = AdvancedCalculator(a,b,option)\n",
    "obj.show()\n",
    "            \n",
    "            \n",
    "    \n",
    "        "
   ]
  },
  {
   "cell_type": "code",
   "execution_count": null,
   "id": "e51aa331-5806-40a0-9233-e689fe370c65",
   "metadata": {},
   "outputs": [],
   "source": []
  }
 ],
 "metadata": {
  "kernelspec": {
   "display_name": "Python 3 (ipykernel)",
   "language": "python",
   "name": "python3"
  },
  "language_info": {
   "codemirror_mode": {
    "name": "ipython",
    "version": 3
   },
   "file_extension": ".py",
   "mimetype": "text/x-python",
   "name": "python",
   "nbconvert_exporter": "python",
   "pygments_lexer": "ipython3",
   "version": "3.8.1"
  }
 },
 "nbformat": 4,
 "nbformat_minor": 5
}
