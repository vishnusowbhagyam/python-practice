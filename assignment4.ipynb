{
 "cells": [
  {
   "cell_type": "markdown",
   "id": "927118b1-16ce-4681-b58f-2eda394f6829",
   "metadata": {},
   "source": [
    "1. Write a Python Program to Find LCM?\n",
    "2. Write a Python Program to Find HCF?\n",
    "3. Write a Python Program to Convert Decimal to Binary, Octal and Hexadecimal?\n",
    "4. Write a Python Program To Find ASCII value of a character?\n",
    "5. Write a Python Program to Make a Simple Calculator with 4 basic mathematical operations?"
   ]
  },
  {
   "cell_type": "code",
   "execution_count": 3,
   "id": "86f5c26b-f4be-4927-aa03-9485670a5f46",
   "metadata": {},
   "outputs": [
    {
     "name": "stdin",
     "output_type": "stream",
     "text": [
      " 4\n",
      " 6\n"
     ]
    },
    {
     "name": "stdout",
     "output_type": "stream",
     "text": [
      "LCM(4,6) = 12\n"
     ]
    }
   ],
   "source": [
    "#1\n",
    "n1 = int(input())\n",
    "n2 = int(input())\n",
    "lst1 = []\n",
    "lst2 = []\n",
    "for i in range(1,11):\n",
    "    lst1.append(n1*i)\n",
    "    lst2.append(n2*i)\n",
    "for i in lst1:\n",
    "    if i in lst2:\n",
    "        print(f\"LCM({n1},{n2}) = {i}\")\n",
    "        break\n",
    "    "
   ]
  },
  {
   "cell_type": "code",
   "execution_count": 7,
   "id": "2ec061b1-7b5a-4996-96da-dffa2890919e",
   "metadata": {},
   "outputs": [
    {
     "name": "stdin",
     "output_type": "stream",
     "text": [
      " 18\n",
      " 12\n"
     ]
    },
    {
     "name": "stdout",
     "output_type": "stream",
     "text": [
      "6\n"
     ]
    }
   ],
   "source": [
    "#2\n",
    "n1 = int(input())\n",
    "n2 = int(input())\n",
    "while n2 != 0:\n",
    "    n1,n2 = n2,n1%n2\n",
    "print(n1)\n",
    "    "
   ]
  },
  {
   "cell_type": "code",
   "execution_count": 8,
   "id": "fc118ad9-d7d2-4329-9f64-5b9473404fed",
   "metadata": {},
   "outputs": [
    {
     "name": "stdin",
     "output_type": "stream",
     "text": [
      " 20\n"
     ]
    },
    {
     "name": "stdout",
     "output_type": "stream",
     "text": [
      "binary value for 20:0b10100\n",
      "octal value for 20:0o24\n",
      "hexadecimal value for 20:0x14\n"
     ]
    }
   ],
   "source": [
    "#3\n",
    "n = int(input())\n",
    "binary = bin(n)\n",
    "octal = oct(n)\n",
    "hexadecimal = hex(n)\n",
    "print(f\"binary value for {n}:{binary}\\noctal value for {n}:{octal}\\nhexadecimal value for {n}:{hexadecimal}\")\n",
    "    \n",
    "    "
   ]
  },
  {
   "cell_type": "code",
   "execution_count": 9,
   "id": "0572023c-578d-412b-b27f-ef94116d9c82",
   "metadata": {},
   "outputs": [
    {
     "name": "stdin",
     "output_type": "stream",
     "text": [
      " a\n"
     ]
    },
    {
     "name": "stdout",
     "output_type": "stream",
     "text": [
      "ASCII value for a :97\n"
     ]
    }
   ],
   "source": [
    "#4\n",
    "string = input()\n",
    "print(f\"ASCII value for {string} :{ord(string)}\")"
   ]
  },
  {
   "cell_type": "code",
   "execution_count": 13,
   "id": "6a37d78e-b417-40d3-83c6-e0a16dca7bfb",
   "metadata": {},
   "outputs": [
    {
     "name": "stdin",
     "output_type": "stream",
     "text": [
      " **\n",
      " 1 5\n"
     ]
    },
    {
     "name": "stdout",
     "output_type": "stream",
     "text": [
      "give only in +,-,/,//,% these operators\n"
     ]
    }
   ],
   "source": [
    "string = input()\n",
    "a,b = map(int,input().split())\n",
    "if string == '+':\n",
    "    print(f\"addition of {a} and {b}:{a+b}\")\n",
    "elif(string == \"-\"):\n",
    "    print(f\"subtraction of {a} and {b}:{a-b}\")\n",
    "elif(string == \"*\"):\n",
    "    print(f\"multiplication of {a} and {b}:{a*b}\")\n",
    "elif(string == \"/\"):\n",
    "    print(f\"division of {a} and {b}:{a/b}\")\n",
    "elif(string == \"//\"):\n",
    "    print(f\"floor division of {a} and {b}:{a//b}\")\n",
    "elif(string == \"%\"):\n",
    "    print(f\"modulus of {a} and {b}:{a%b}\")\n",
    "else:\n",
    "    print(\"give only in +,-,/,//,% these operators\")"
   ]
  },
  {
   "cell_type": "code",
   "execution_count": null,
   "id": "1864d9b8-0fc8-4106-83b8-241eebb9dbc0",
   "metadata": {},
   "outputs": [],
   "source": []
  }
 ],
 "metadata": {
  "kernelspec": {
   "display_name": "Python 3 (ipykernel)",
   "language": "python",
   "name": "python3"
  },
  "language_info": {
   "codemirror_mode": {
    "name": "ipython",
    "version": 3
   },
   "file_extension": ".py",
   "mimetype": "text/x-python",
   "name": "python",
   "nbconvert_exporter": "python",
   "pygments_lexer": "ipython3",
   "version": "3.8.1"
  }
 },
 "nbformat": 4,
 "nbformat_minor": 5
}
